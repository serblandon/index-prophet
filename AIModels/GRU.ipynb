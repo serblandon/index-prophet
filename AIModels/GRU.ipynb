{
  "nbformat": 4,
  "nbformat_minor": 0,
  "metadata": {
    "colab": {
      "provenance": [],
      "gpuType": "T4"
    },
    "kernelspec": {
      "name": "python3",
      "display_name": "Python 3"
    },
    "language_info": {
      "name": "python"
    },
    "accelerator": "GPU"
  },
  "cells": [
    {
      "cell_type": "code",
      "execution_count": 1,
      "metadata": {
        "id": "h_qC9cgWlRIf"
      },
      "outputs": [],
      "source": [
        "# Fetch List of sp500 tickers\n",
        "import pandas as pd\n",
        "import pandas_datareader as pdr\n",
        "from datetime import datetime\n",
        "\n",
        "def get_sp500_tickers():\n",
        "  table = pd.read_html('https://en.wikipedia.org/wiki/List_of_S%26P_500_companies')\n",
        "  sp500_df = table[0]\n",
        "\n",
        "  tickers = sp500_df['Symbol'].tolist()\n",
        "\n",
        "  tickers = [ticker.replace('.', '-') for ticker in tickers]\n",
        "\n",
        "  # Split the list into two halves\n",
        "  quarter_point = len(tickers) // 2\n",
        "  tickers_first_quarter = tickers[:quarter_point]\n",
        "  tickers_second_quarter = tickers[quarter_point:2*quarter_point]\n",
        "  tickers_third_quarter = tickers[2*quarter_point:3*quarter_point]\n",
        "  tickers_fourth_quarter = tickers[3*quarter_point:]\n",
        "\n",
        "  return tickers_first_quarter, tickers_second_quarter, tickers_third_quarter, tickers_fourth_quarter\n",
        "\n",
        "# Fetch and split the S&P 500 tickers\n",
        "\n",
        "\n",
        "sp500_first, sp500_second, sp500_third, sp500_fourth = get_sp500_tickers()\n"
      ]
    },
    {
      "cell_type": "code",
      "source": [
        "import os\n",
        "import pandas as pd\n",
        "import numpy as np\n",
        "import math\n",
        "import datetime as dt\n",
        "\n",
        "from sklearn.metrics import mean_squared_error, mean_absolute_error, explained_variance_score, r2_score\n",
        "from sklearn.metrics import mean_poisson_deviance, mean_gamma_deviance, accuracy_score\n",
        "from sklearn.preprocessing import MinMaxScaler\n",
        "\n",
        "import tensorflow as tf\n",
        "from tensorflow.keras.models import Sequential\n",
        "from tensorflow.keras.layers import Dense, Dropout\n",
        "from tensorflow.keras.layers import LSTM, GRU\n",
        "\n",
        "import yfinance as yf\n",
        "\n",
        "\n",
        "from itertools import cycle\n",
        "import plotly.graph_objects as go\n",
        "import plotly.express as px\n",
        "from plotly.subplots import make_subplots\n",
        "from numpy import array\n"
      ],
      "metadata": {
        "id": "nghlzwoplW0W"
      },
      "execution_count": 2,
      "outputs": []
    },
    {
      "cell_type": "code",
      "source": [
        "def create_sliding_window(dataset, time_step=1):\n",
        "    dataX, dataY = [], []\n",
        "    for i in range(len(dataset)-time_step-1):\n",
        "        a = dataset[i:(i+time_step), 0]   ###i=0, 0,1,2,3-----99   100\n",
        "        dataX.append(a)\n",
        "        dataY.append(dataset[i + time_step, 0])\n",
        "    return np.array(dataX), np.array(dataY)"
      ],
      "metadata": {
        "id": "VXGUCHYslYfe"
      },
      "execution_count": 3,
      "outputs": []
    },
    {
      "cell_type": "code",
      "source": [
        "if \"PHM\" in sp500_second:\n",
        "    index_of_gev = sp500_second.index(\"PHM\")\n",
        "    sp500_second = sp500_second[index_of_gev + 1:]"
      ],
      "metadata": {
        "id": "NQsiuggOlZcP"
      },
      "execution_count": 4,
      "outputs": []
    },
    {
      "cell_type": "code",
      "source": [
        "print(len(sp500_second))"
      ],
      "metadata": {
        "colab": {
          "base_uri": "https://localhost:8080/"
        },
        "id": "5btmfkoSl5Tf",
        "outputId": "ed02d1f1-f229-416c-df50-e965983e95af"
      },
      "execution_count": 9,
      "outputs": [
        {
          "output_type": "stream",
          "name": "stdout",
          "text": [
            "111\n"
          ]
        }
      ]
    },
    {
      "cell_type": "code",
      "source": [
        "elements = {\"PANW\", \"SOLV\", \"VLTO\"}\n",
        "sp500_second = [ticker for ticker in sp500_second if ticker not in elements]"
      ],
      "metadata": {
        "id": "XlJmYhf-mCwB"
      },
      "execution_count": 8,
      "outputs": []
    },
    {
      "cell_type": "code",
      "source": [
        "for ticker in sp500_second:\n",
        "  start_date = '2014-01-01'\n",
        "  end_date ='2024-04-19'\n",
        "  # ticker = 'GEHC'\n",
        "\n",
        "  stock_data = yf.download(ticker, start=start_date, end=end_date)\n",
        "\n",
        "  filename = f\"predicted2_rest/{ticker}.csv\"\n",
        "  stock_data.to_csv(f'historical/{ticker}_hist.csv')\n",
        "  stock_df=pd.read_csv(f'historical/{ticker}_hist.csv')\n",
        "\n",
        "  stock_df = stock_df.rename(columns={'Date': 'date','Open':'open','High':'high','Low':'low','Close':'close',\n",
        "                                  'Adj Close':'adj_close','Volume':'volume'})\n",
        "\n",
        "  stock_df['date'] = pd.to_datetime(stock_df['date'], utc=True)\n",
        "\n",
        "  stock_df_close = stock_df[['date','close']]\n",
        "\n",
        "  stock_df_close_last_1_year = stock_df_close[stock_df_close['date'] > '2020-04-19']\n",
        "\n",
        "  stock_df_close_last_1_year_original_gt = stock_df_close_last_1_year.copy()\n",
        "\n",
        "  training_size=int(len(stock_df_close_last_1_year)*0.75)\n",
        "\n",
        "  test_size=len(stock_df_close_last_1_year)-training_size\n",
        "\n",
        "  train_data,test_data = stock_df_close_last_1_year[0:training_size], stock_df_close_last_1_year[training_size:len(stock_df_close_last_1_year)]\n",
        "\n",
        "  del train_data['date']\n",
        "\n",
        "  del test_data['date']\n",
        "\n",
        "  scaler=MinMaxScaler(feature_range=(0,1))\n",
        "\n",
        "  train_data=scaler.fit_transform(np.array(train_data).reshape(-1,1))\n",
        "\n",
        "  test_data = scaler.transform(np.array(test_data).reshape(-1,1))\n",
        "\n",
        "  time_step = 100\n",
        "\n",
        "  X_train, y_train = create_sliding_window(train_data, time_step)\n",
        "\n",
        "  X_test, y_test = create_sliding_window(test_data, time_step)\n",
        "\n",
        "  print(ticker)\n",
        "\n",
        "  X_train =X_train.reshape(X_train.shape[0], X_train.shape[1] , 1)\n",
        "\n",
        "\n",
        "  X_test = X_test.reshape(X_test.shape[0],X_test.shape[1] , 1)\n",
        "\n",
        "  model=Sequential()\n",
        "\n",
        "  model.add(GRU(32,return_sequences=True,input_shape=(time_step,1)))\n",
        "\n",
        "  model.add(GRU(32,return_sequences=True))\n",
        "\n",
        "  model.add(GRU(32))\n",
        "\n",
        "  model.add(Dropout(0.20))\n",
        "\n",
        "  model.add(Dense(1))\n",
        "\n",
        "  model.compile(loss='mean_squared_error',optimizer='adam')\n",
        "\n",
        "  history = model.fit(X_train,y_train, validation_data=(X_test,y_test), epochs=10, batch_size=32, verbose=0)\n",
        "\n",
        "  train_predict=model.predict(X_train)\n",
        "\n",
        "  test_predict=model.predict(X_test)\n",
        "\n",
        "  train_predict = scaler.inverse_transform(train_predict)\n",
        "\n",
        "  test_predict = scaler.inverse_transform(test_predict)\n",
        "\n",
        "  original_ytrain = scaler.inverse_transform(y_train.reshape(-1,1))\n",
        "\n",
        "  original_ytest = scaler.inverse_transform(y_test.reshape(-1,1))\n",
        "\n",
        "  del stock_df_close_last_1_year['date']\n",
        "\n",
        "  look_back=time_step\n",
        "\n",
        "  train_predict_look_ahead = np.empty_like(stock_df_close_last_1_year)\n",
        "\n",
        "  train_predict_look_ahead[:, :] = np.nan\n",
        "\n",
        "  # For looking ahead by look_back, I need to start at look_back\n",
        "  train_predict_look_ahead[look_back:len(train_predict)+look_back, :] = train_predict\n",
        "\n",
        "  ####################### TEST #############################\n",
        "  # shift test predictions for plotting\n",
        "  test_predict_look_ahead = np.empty_like(stock_df_close_last_1_year)\n",
        "\n",
        "  test_predict_look_ahead[:, :] = np.nan\n",
        "\n",
        "  test_predict_look_ahead[len(train_predict)+(look_back*2)+1:len(stock_df_close_last_1_year)-1, :] = test_predict\n",
        "\n",
        "  x_input=test_data[len(test_data)-time_step:].reshape(1,-1) # time_step is 15\n",
        "\n",
        "  temp_input=list(x_input)\n",
        "  temp_input=temp_input[0].tolist()\n",
        "\n",
        "  lst_output=[]\n",
        "  n_steps=time_step\n",
        "  i=0\n",
        "  pred_days = 400\n",
        "  while(i<pred_days):\n",
        "\n",
        "      if(len(temp_input)>time_step):\n",
        "\n",
        "          x_input=np.array(temp_input[1:])\n",
        "          #print(\"{} day input {}\".format(i,x_input))\n",
        "          x_input = x_input.reshape(1,-1)\n",
        "          x_input = x_input.reshape((1, n_steps, 1))\n",
        "\n",
        "          y_pred = model.predict(x_input, verbose=0)\n",
        "          #print(\"{} day output {}\".format(i,y_pred))\n",
        "          temp_input.extend(y_pred[0].tolist())\n",
        "          temp_input=temp_input[1:]\n",
        "          #print(temp_input)\n",
        "\n",
        "          lst_output.extend(y_pred.tolist())\n",
        "          i=i+1\n",
        "\n",
        "      else:\n",
        "\n",
        "          x_input = x_input.reshape((1, n_steps,1)) # Reshape x_input to a 3D Tensor [samples, time steps, features] before feeding into the model\n",
        "          y_pred = model.predict(x_input, verbose=0)\n",
        "          temp_input.extend(y_pred[0].tolist())\n",
        "\n",
        "          lst_output.extend(y_pred.tolist())\n",
        "          i=i+1\n",
        "\n",
        "  last_days=np.arange(1,time_step+1)\n",
        "  day_pred=np.arange(time_step+1,time_step+pred_days+1)\n",
        "\n",
        "  temp_matrix = np.empty((len(last_days)+pred_days+1, 1))\n",
        "\n",
        "  temp_matrix[:] = np.nan\n",
        "\n",
        "  temp_matrix = temp_matrix.reshape(1,-1).tolist()[0]\n",
        "\n",
        "  last_original_days_value = temp_matrix\n",
        "\n",
        "  next_predicted_days_value = temp_matrix\n",
        "\n",
        "  last_original_days_value[0:time_step+1] = stock_df_close_last_1_year_original_gt[len(stock_df_close_last_1_year_original_gt)-time_step:]['close'].tolist()\n",
        "\n",
        "  next_predicted_days_value[time_step+1:] = scaler.inverse_transform(np.array(lst_output).reshape(-1,1)).reshape(1,-1).tolist()[0]\n",
        "\n",
        "  predicted_values = next_predicted_days_value[time_step+1:]\n",
        "  df_predicted = pd.DataFrame(predicted_values, columns=['adj_close_price'])\n",
        "  df_predicted.to_csv(filename, index=False)"
      ],
      "metadata": {
        "colab": {
          "base_uri": "https://localhost:8080/"
        },
        "id": "sdb6UYBklaiq",
        "outputId": "179d7ad4-835e-485b-ee07-849e2efec988"
      },
      "execution_count": 10,
      "outputs": [
        {
          "output_type": "stream",
          "name": "stderr",
          "text": [
            "\r[*********************100%%**********************]  1 of 1 completed\n"
          ]
        },
        {
          "output_type": "stream",
          "name": "stdout",
          "text": [
            "QRVO\n",
            "21/21 [==============================] - 1s 7ms/step\n",
            "5/5 [==============================] - 0s 7ms/step\n"
          ]
        },
        {
          "output_type": "stream",
          "name": "stderr",
          "text": [
            "\r[*********************100%%**********************]  1 of 1 completed\n"
          ]
        },
        {
          "output_type": "stream",
          "name": "stdout",
          "text": [
            "PWR\n",
            "21/21 [==============================] - 1s 6ms/step\n",
            "5/5 [==============================] - 0s 6ms/step\n"
          ]
        },
        {
          "output_type": "stream",
          "name": "stderr",
          "text": [
            "\r[*********************100%%**********************]  1 of 1 completed\n"
          ]
        },
        {
          "output_type": "stream",
          "name": "stdout",
          "text": [
            "QCOM\n",
            "21/21 [==============================] - 2s 7ms/step\n",
            "5/5 [==============================] - 0s 8ms/step\n"
          ]
        },
        {
          "output_type": "stream",
          "name": "stderr",
          "text": [
            "\r[*********************100%%**********************]  1 of 1 completed\n"
          ]
        },
        {
          "output_type": "stream",
          "name": "stdout",
          "text": [
            "DGX\n",
            "21/21 [==============================] - 1s 7ms/step\n",
            "5/5 [==============================] - 0s 7ms/step\n"
          ]
        },
        {
          "output_type": "stream",
          "name": "stderr",
          "text": [
            "\r[*********************100%%**********************]  1 of 1 completed\n"
          ]
        },
        {
          "output_type": "stream",
          "name": "stdout",
          "text": [
            "RL\n",
            "21/21 [==============================] - 1s 6ms/step\n",
            "5/5 [==============================] - 0s 6ms/step\n"
          ]
        },
        {
          "output_type": "stream",
          "name": "stderr",
          "text": [
            "\r[*********************100%%**********************]  1 of 1 completed\n"
          ]
        },
        {
          "output_type": "stream",
          "name": "stdout",
          "text": [
            "RJF\n",
            "21/21 [==============================] - 1s 6ms/step\n",
            "5/5 [==============================] - 0s 6ms/step\n"
          ]
        },
        {
          "output_type": "stream",
          "name": "stderr",
          "text": [
            "\r[*********************100%%**********************]  1 of 1 completed\n"
          ]
        },
        {
          "output_type": "stream",
          "name": "stdout",
          "text": [
            "RTX\n",
            "21/21 [==============================] - 1s 6ms/step\n",
            "5/5 [==============================] - 0s 7ms/step\n"
          ]
        },
        {
          "output_type": "stream",
          "name": "stderr",
          "text": [
            "\r[*********************100%%**********************]  1 of 1 completed\n"
          ]
        },
        {
          "output_type": "stream",
          "name": "stdout",
          "text": [
            "O\n",
            "21/21 [==============================] - 1s 7ms/step\n",
            "5/5 [==============================] - 0s 6ms/step\n"
          ]
        },
        {
          "output_type": "stream",
          "name": "stderr",
          "text": [
            "\r[*********************100%%**********************]  1 of 1 completed\n"
          ]
        },
        {
          "output_type": "stream",
          "name": "stdout",
          "text": [
            "REG\n",
            "21/21 [==============================] - 1s 6ms/step\n",
            "5/5 [==============================] - 0s 8ms/step\n"
          ]
        },
        {
          "output_type": "stream",
          "name": "stderr",
          "text": [
            "\r[*********************100%%**********************]  1 of 1 completed\n"
          ]
        },
        {
          "output_type": "stream",
          "name": "stdout",
          "text": [
            "REGN\n",
            "21/21 [==============================] - 1s 9ms/step\n",
            "5/5 [==============================] - 0s 7ms/step\n"
          ]
        },
        {
          "output_type": "stream",
          "name": "stderr",
          "text": [
            "\r[*********************100%%**********************]  1 of 1 completed\n"
          ]
        },
        {
          "output_type": "stream",
          "name": "stdout",
          "text": [
            "RF\n",
            "21/21 [==============================] - 1s 6ms/step\n",
            "5/5 [==============================] - 0s 6ms/step\n"
          ]
        },
        {
          "output_type": "stream",
          "name": "stderr",
          "text": [
            "\r[*********************100%%**********************]  1 of 1 completed\n"
          ]
        },
        {
          "output_type": "stream",
          "name": "stdout",
          "text": [
            "RSG\n",
            "21/21 [==============================] - 1s 6ms/step\n",
            "5/5 [==============================] - 0s 6ms/step\n"
          ]
        },
        {
          "output_type": "stream",
          "name": "stderr",
          "text": [
            "\r[*********************100%%**********************]  1 of 1 completed\n"
          ]
        },
        {
          "output_type": "stream",
          "name": "stdout",
          "text": [
            "RMD\n",
            "21/21 [==============================] - 1s 8ms/step\n",
            "5/5 [==============================] - 0s 7ms/step\n"
          ]
        },
        {
          "output_type": "stream",
          "name": "stderr",
          "text": [
            "\r[*********************100%%**********************]  1 of 1 completed\n"
          ]
        },
        {
          "output_type": "stream",
          "name": "stdout",
          "text": [
            "RVTY\n",
            "21/21 [==============================] - 1s 8ms/step\n",
            "5/5 [==============================] - 0s 9ms/step\n"
          ]
        },
        {
          "output_type": "stream",
          "name": "stderr",
          "text": [
            "\r[*********************100%%**********************]  1 of 1 completed\n"
          ]
        },
        {
          "output_type": "stream",
          "name": "stdout",
          "text": [
            "RHI\n",
            "21/21 [==============================] - 1s 6ms/step\n",
            "5/5 [==============================] - 0s 7ms/step\n"
          ]
        },
        {
          "output_type": "stream",
          "name": "stderr",
          "text": [
            "\r[*********************100%%**********************]  1 of 1 completed\n"
          ]
        },
        {
          "output_type": "stream",
          "name": "stdout",
          "text": [
            "ROK\n",
            "21/21 [==============================] - 1s 6ms/step\n",
            "5/5 [==============================] - 0s 7ms/step\n"
          ]
        },
        {
          "output_type": "stream",
          "name": "stderr",
          "text": [
            "\r[*********************100%%**********************]  1 of 1 completed\n"
          ]
        },
        {
          "output_type": "stream",
          "name": "stdout",
          "text": [
            "ROL\n",
            "21/21 [==============================] - 1s 7ms/step\n",
            "5/5 [==============================] - 0s 6ms/step\n"
          ]
        },
        {
          "output_type": "stream",
          "name": "stderr",
          "text": [
            "\r[*********************100%%**********************]  1 of 1 completed\n"
          ]
        },
        {
          "output_type": "stream",
          "name": "stdout",
          "text": [
            "ROP\n",
            "21/21 [==============================] - 1s 8ms/step\n",
            "5/5 [==============================] - 0s 6ms/step\n"
          ]
        },
        {
          "output_type": "stream",
          "name": "stderr",
          "text": [
            "\r[*********************100%%**********************]  1 of 1 completed\n"
          ]
        },
        {
          "output_type": "stream",
          "name": "stdout",
          "text": [
            "ROST\n",
            "21/21 [==============================] - 1s 6ms/step\n",
            "5/5 [==============================] - 0s 6ms/step\n"
          ]
        },
        {
          "output_type": "stream",
          "name": "stderr",
          "text": [
            "\r[*********************100%%**********************]  1 of 1 completed\n"
          ]
        },
        {
          "output_type": "stream",
          "name": "stdout",
          "text": [
            "RCL\n",
            "21/21 [==============================] - 1s 6ms/step\n",
            "5/5 [==============================] - 0s 6ms/step\n"
          ]
        },
        {
          "output_type": "stream",
          "name": "stderr",
          "text": [
            "\r[*********************100%%**********************]  1 of 1 completed\n"
          ]
        },
        {
          "output_type": "stream",
          "name": "stdout",
          "text": [
            "SPGI\n",
            "21/21 [==============================] - 1s 6ms/step\n",
            "5/5 [==============================] - 0s 7ms/step\n"
          ]
        },
        {
          "output_type": "stream",
          "name": "stderr",
          "text": [
            "\r[*********************100%%**********************]  1 of 1 completed\n"
          ]
        },
        {
          "output_type": "stream",
          "name": "stdout",
          "text": [
            "CRM\n",
            "21/21 [==============================] - 1s 6ms/step\n",
            "5/5 [==============================] - 0s 6ms/step\n"
          ]
        },
        {
          "output_type": "stream",
          "name": "stderr",
          "text": [
            "\r[*********************100%%**********************]  1 of 1 completed\n"
          ]
        },
        {
          "output_type": "stream",
          "name": "stdout",
          "text": [
            "SBAC\n",
            "21/21 [==============================] - 1s 6ms/step\n",
            "5/5 [==============================] - 0s 7ms/step\n"
          ]
        },
        {
          "output_type": "stream",
          "name": "stderr",
          "text": [
            "\r[*********************100%%**********************]  1 of 1 completed\n"
          ]
        },
        {
          "output_type": "stream",
          "name": "stdout",
          "text": [
            "SLB\n",
            "21/21 [==============================] - 1s 8ms/step\n",
            "5/5 [==============================] - 0s 7ms/step\n"
          ]
        },
        {
          "output_type": "stream",
          "name": "stderr",
          "text": [
            "\r[*********************100%%**********************]  1 of 1 completed\n"
          ]
        },
        {
          "output_type": "stream",
          "name": "stdout",
          "text": [
            "STX\n",
            "21/21 [==============================] - 1s 7ms/step\n",
            "5/5 [==============================] - 0s 7ms/step\n"
          ]
        },
        {
          "output_type": "stream",
          "name": "stderr",
          "text": [
            "\r[*********************100%%**********************]  1 of 1 completed\n"
          ]
        },
        {
          "output_type": "stream",
          "name": "stdout",
          "text": [
            "SRE\n",
            "21/21 [==============================] - 1s 6ms/step\n",
            "5/5 [==============================] - 0s 6ms/step\n"
          ]
        },
        {
          "output_type": "stream",
          "name": "stderr",
          "text": [
            "\r[*********************100%%**********************]  1 of 1 completed\n"
          ]
        },
        {
          "output_type": "stream",
          "name": "stdout",
          "text": [
            "NOW\n",
            "21/21 [==============================] - 1s 9ms/step\n",
            "5/5 [==============================] - 0s 8ms/step\n"
          ]
        },
        {
          "output_type": "stream",
          "name": "stderr",
          "text": [
            "\r[*********************100%%**********************]  1 of 1 completed\n"
          ]
        },
        {
          "output_type": "stream",
          "name": "stdout",
          "text": [
            "SHW\n",
            "21/21 [==============================] - 1s 6ms/step\n",
            "5/5 [==============================] - 0s 6ms/step\n"
          ]
        },
        {
          "output_type": "stream",
          "name": "stderr",
          "text": [
            "\r[*********************100%%**********************]  1 of 1 completed\n"
          ]
        },
        {
          "output_type": "stream",
          "name": "stdout",
          "text": [
            "SPG\n",
            "21/21 [==============================] - 1s 8ms/step\n",
            "5/5 [==============================] - 0s 9ms/step\n"
          ]
        },
        {
          "output_type": "stream",
          "name": "stderr",
          "text": [
            "\r[*********************100%%**********************]  1 of 1 completed\n"
          ]
        },
        {
          "output_type": "stream",
          "name": "stdout",
          "text": [
            "SWKS\n",
            "21/21 [==============================] - 1s 7ms/step\n",
            "5/5 [==============================] - 0s 8ms/step\n"
          ]
        },
        {
          "output_type": "stream",
          "name": "stderr",
          "text": [
            "\r[*********************100%%**********************]  1 of 1 completed\n"
          ]
        },
        {
          "output_type": "stream",
          "name": "stdout",
          "text": [
            "SJM\n",
            "21/21 [==============================] - 1s 6ms/step\n",
            "5/5 [==============================] - 0s 8ms/step\n"
          ]
        },
        {
          "output_type": "stream",
          "name": "stderr",
          "text": [
            "\r[*********************100%%**********************]  1 of 1 completed\n"
          ]
        },
        {
          "output_type": "stream",
          "name": "stdout",
          "text": [
            "SNA\n",
            "21/21 [==============================] - 1s 8ms/step\n",
            "5/5 [==============================] - 0s 8ms/step\n"
          ]
        },
        {
          "output_type": "stream",
          "name": "stderr",
          "text": [
            "\r[*********************100%%**********************]  1 of 1 completed\n"
          ]
        },
        {
          "output_type": "stream",
          "name": "stdout",
          "text": [
            "SO\n",
            "21/21 [==============================] - 3s 7ms/step\n",
            "5/5 [==============================] - 0s 6ms/step\n"
          ]
        },
        {
          "output_type": "stream",
          "name": "stderr",
          "text": [
            "\r[*********************100%%**********************]  1 of 1 completed\n"
          ]
        },
        {
          "output_type": "stream",
          "name": "stdout",
          "text": [
            "LUV\n",
            "21/21 [==============================] - 1s 8ms/step\n",
            "5/5 [==============================] - 0s 8ms/step\n"
          ]
        },
        {
          "output_type": "stream",
          "name": "stderr",
          "text": [
            "\r[*********************100%%**********************]  1 of 1 completed\n"
          ]
        },
        {
          "output_type": "stream",
          "name": "stdout",
          "text": [
            "SWK\n",
            "21/21 [==============================] - 1s 7ms/step\n",
            "5/5 [==============================] - 0s 8ms/step\n"
          ]
        },
        {
          "output_type": "stream",
          "name": "stderr",
          "text": [
            "\r[*********************100%%**********************]  1 of 1 completed\n"
          ]
        },
        {
          "output_type": "stream",
          "name": "stdout",
          "text": [
            "SBUX\n",
            "21/21 [==============================] - 1s 7ms/step\n",
            "5/5 [==============================] - 0s 7ms/step\n"
          ]
        },
        {
          "output_type": "stream",
          "name": "stderr",
          "text": [
            "\r[*********************100%%**********************]  1 of 1 completed\n"
          ]
        },
        {
          "output_type": "stream",
          "name": "stdout",
          "text": [
            "STT\n",
            "21/21 [==============================] - 1s 6ms/step\n",
            "5/5 [==============================] - 0s 7ms/step\n"
          ]
        },
        {
          "output_type": "stream",
          "name": "stderr",
          "text": [
            "\r[*********************100%%**********************]  1 of 1 completed\n"
          ]
        },
        {
          "output_type": "stream",
          "name": "stdout",
          "text": [
            "STLD\n",
            "21/21 [==============================] - 1s 8ms/step\n",
            "5/5 [==============================] - 0s 7ms/step\n"
          ]
        },
        {
          "output_type": "stream",
          "name": "stderr",
          "text": [
            "\r[*********************100%%**********************]  1 of 1 completed\n"
          ]
        },
        {
          "output_type": "stream",
          "name": "stdout",
          "text": [
            "STE\n",
            "21/21 [==============================] - 1s 6ms/step\n",
            "5/5 [==============================] - 0s 7ms/step\n"
          ]
        },
        {
          "output_type": "stream",
          "name": "stderr",
          "text": [
            "\r[*********************100%%**********************]  1 of 1 completed\n"
          ]
        },
        {
          "output_type": "stream",
          "name": "stdout",
          "text": [
            "SYK\n",
            "21/21 [==============================] - 1s 7ms/step\n",
            "5/5 [==============================] - 0s 6ms/step\n"
          ]
        },
        {
          "output_type": "stream",
          "name": "stderr",
          "text": [
            "\r[*********************100%%**********************]  1 of 1 completed\n"
          ]
        },
        {
          "output_type": "stream",
          "name": "stdout",
          "text": [
            "SMCI\n",
            "21/21 [==============================] - 1s 6ms/step\n",
            "5/5 [==============================] - 0s 6ms/step\n"
          ]
        },
        {
          "output_type": "stream",
          "name": "stderr",
          "text": [
            "\r[*********************100%%**********************]  1 of 1 completed\n"
          ]
        },
        {
          "output_type": "stream",
          "name": "stdout",
          "text": [
            "SYF\n",
            "21/21 [==============================] - 1s 7ms/step\n",
            "5/5 [==============================] - 0s 7ms/step\n"
          ]
        },
        {
          "output_type": "stream",
          "name": "stderr",
          "text": [
            "\r[*********************100%%**********************]  1 of 1 completed\n"
          ]
        },
        {
          "output_type": "stream",
          "name": "stdout",
          "text": [
            "SNPS\n",
            "21/21 [==============================] - 1s 6ms/step\n",
            "5/5 [==============================] - 0s 7ms/step\n"
          ]
        },
        {
          "output_type": "stream",
          "name": "stderr",
          "text": [
            "\r[*********************100%%**********************]  1 of 1 completed\n"
          ]
        },
        {
          "output_type": "stream",
          "name": "stdout",
          "text": [
            "SYY\n",
            "21/21 [==============================] - 1s 6ms/step\n",
            "5/5 [==============================] - 0s 6ms/step\n"
          ]
        },
        {
          "output_type": "stream",
          "name": "stderr",
          "text": [
            "\r[*********************100%%**********************]  1 of 1 completed\n"
          ]
        },
        {
          "output_type": "stream",
          "name": "stdout",
          "text": [
            "TMUS\n",
            "21/21 [==============================] - 1s 7ms/step\n",
            "5/5 [==============================] - 0s 9ms/step\n"
          ]
        },
        {
          "output_type": "stream",
          "name": "stderr",
          "text": [
            "\r[*********************100%%**********************]  1 of 1 completed\n"
          ]
        },
        {
          "output_type": "stream",
          "name": "stdout",
          "text": [
            "TROW\n",
            "21/21 [==============================] - 1s 8ms/step\n",
            "5/5 [==============================] - 0s 7ms/step\n"
          ]
        },
        {
          "output_type": "stream",
          "name": "stderr",
          "text": [
            "\r[*********************100%%**********************]  1 of 1 completed\n"
          ]
        },
        {
          "output_type": "stream",
          "name": "stdout",
          "text": [
            "TTWO\n",
            "21/21 [==============================] - 1s 8ms/step\n",
            "5/5 [==============================] - 0s 7ms/step\n"
          ]
        },
        {
          "output_type": "stream",
          "name": "stderr",
          "text": [
            "\r[*********************100%%**********************]  1 of 1 completed\n"
          ]
        },
        {
          "output_type": "stream",
          "name": "stdout",
          "text": [
            "TPR\n",
            "21/21 [==============================] - 1s 6ms/step\n",
            "5/5 [==============================] - 0s 7ms/step\n"
          ]
        },
        {
          "output_type": "stream",
          "name": "stderr",
          "text": [
            "\r[*********************100%%**********************]  1 of 1 completed\n"
          ]
        },
        {
          "output_type": "stream",
          "name": "stdout",
          "text": [
            "TRGP\n",
            "21/21 [==============================] - 1s 6ms/step\n",
            "5/5 [==============================] - 0s 6ms/step\n"
          ]
        },
        {
          "output_type": "stream",
          "name": "stderr",
          "text": [
            "\r[*********************100%%**********************]  1 of 1 completed\n"
          ]
        },
        {
          "output_type": "stream",
          "name": "stdout",
          "text": [
            "TGT\n",
            "21/21 [==============================] - 1s 8ms/step\n",
            "5/5 [==============================] - 0s 8ms/step\n"
          ]
        },
        {
          "output_type": "stream",
          "name": "stderr",
          "text": [
            "\r[*********************100%%**********************]  1 of 1 completed\n"
          ]
        },
        {
          "output_type": "stream",
          "name": "stdout",
          "text": [
            "TEL\n",
            "21/21 [==============================] - 1s 9ms/step\n",
            "5/5 [==============================] - 0s 8ms/step\n"
          ]
        },
        {
          "output_type": "stream",
          "name": "stderr",
          "text": [
            "\r[*********************100%%**********************]  1 of 1 completed\n"
          ]
        },
        {
          "output_type": "stream",
          "name": "stdout",
          "text": [
            "TDY\n",
            "21/21 [==============================] - 1s 8ms/step\n",
            "5/5 [==============================] - 0s 8ms/step\n"
          ]
        },
        {
          "output_type": "stream",
          "name": "stderr",
          "text": [
            "\r[*********************100%%**********************]  1 of 1 completed\n"
          ]
        },
        {
          "output_type": "stream",
          "name": "stdout",
          "text": [
            "TFX\n",
            "21/21 [==============================] - 1s 8ms/step\n",
            "5/5 [==============================] - 0s 9ms/step\n"
          ]
        },
        {
          "output_type": "stream",
          "name": "stderr",
          "text": [
            "\r[*********************100%%**********************]  1 of 1 completed\n"
          ]
        },
        {
          "output_type": "stream",
          "name": "stdout",
          "text": [
            "TER\n",
            "21/21 [==============================] - 1s 7ms/step\n",
            "5/5 [==============================] - 0s 7ms/step\n"
          ]
        },
        {
          "output_type": "stream",
          "name": "stderr",
          "text": [
            "\r[*********************100%%**********************]  1 of 1 completed\n"
          ]
        },
        {
          "output_type": "stream",
          "name": "stdout",
          "text": [
            "TSLA\n",
            "21/21 [==============================] - 1s 8ms/step\n",
            "5/5 [==============================] - 0s 8ms/step\n"
          ]
        },
        {
          "output_type": "stream",
          "name": "stderr",
          "text": [
            "\r[*********************100%%**********************]  1 of 1 completed\n"
          ]
        },
        {
          "output_type": "stream",
          "name": "stdout",
          "text": [
            "TXN\n",
            "21/21 [==============================] - 1s 7ms/step\n",
            "5/5 [==============================] - 0s 9ms/step\n"
          ]
        },
        {
          "output_type": "stream",
          "name": "stderr",
          "text": [
            "\r[*********************100%%**********************]  1 of 1 completed\n"
          ]
        },
        {
          "output_type": "stream",
          "name": "stdout",
          "text": [
            "TXT\n",
            "21/21 [==============================] - 1s 8ms/step\n",
            "5/5 [==============================] - 0s 8ms/step\n"
          ]
        },
        {
          "output_type": "stream",
          "name": "stderr",
          "text": [
            "\r[*********************100%%**********************]  1 of 1 completed\n"
          ]
        },
        {
          "output_type": "stream",
          "name": "stdout",
          "text": [
            "TMO\n",
            "21/21 [==============================] - 1s 7ms/step\n",
            "5/5 [==============================] - 0s 8ms/step\n"
          ]
        },
        {
          "output_type": "stream",
          "name": "stderr",
          "text": [
            "\r[*********************100%%**********************]  1 of 1 completed\n"
          ]
        },
        {
          "output_type": "stream",
          "name": "stdout",
          "text": [
            "TJX\n",
            "21/21 [==============================] - 1s 6ms/step\n",
            "5/5 [==============================] - 0s 6ms/step\n"
          ]
        },
        {
          "output_type": "stream",
          "name": "stderr",
          "text": [
            "\r[*********************100%%**********************]  1 of 1 completed\n"
          ]
        },
        {
          "output_type": "stream",
          "name": "stdout",
          "text": [
            "TSCO\n",
            "21/21 [==============================] - 1s 6ms/step\n",
            "5/5 [==============================] - 0s 6ms/step\n"
          ]
        },
        {
          "output_type": "stream",
          "name": "stderr",
          "text": [
            "\r[*********************100%%**********************]  1 of 1 completed\n"
          ]
        },
        {
          "output_type": "stream",
          "name": "stdout",
          "text": [
            "TT\n",
            "21/21 [==============================] - 1s 6ms/step\n",
            "5/5 [==============================] - 0s 7ms/step\n"
          ]
        },
        {
          "output_type": "stream",
          "name": "stderr",
          "text": [
            "\r[*********************100%%**********************]  1 of 1 completed\n"
          ]
        },
        {
          "output_type": "stream",
          "name": "stdout",
          "text": [
            "TDG\n",
            "21/21 [==============================] - 1s 6ms/step\n",
            "5/5 [==============================] - 0s 7ms/step\n"
          ]
        },
        {
          "output_type": "stream",
          "name": "stderr",
          "text": [
            "\r[*********************100%%**********************]  1 of 1 completed\n"
          ]
        },
        {
          "output_type": "stream",
          "name": "stdout",
          "text": [
            "TRV\n",
            "21/21 [==============================] - 1s 5ms/step\n",
            "5/5 [==============================] - 0s 6ms/step\n"
          ]
        },
        {
          "output_type": "stream",
          "name": "stderr",
          "text": [
            "\r[*********************100%%**********************]  1 of 1 completed\n"
          ]
        },
        {
          "output_type": "stream",
          "name": "stdout",
          "text": [
            "TRMB\n",
            "21/21 [==============================] - 1s 7ms/step\n",
            "5/5 [==============================] - 0s 6ms/step\n"
          ]
        },
        {
          "output_type": "stream",
          "name": "stderr",
          "text": [
            "\r[*********************100%%**********************]  1 of 1 completed\n"
          ]
        },
        {
          "output_type": "stream",
          "name": "stdout",
          "text": [
            "TFC\n",
            "21/21 [==============================] - 1s 8ms/step\n",
            "5/5 [==============================] - 0s 9ms/step\n"
          ]
        },
        {
          "output_type": "stream",
          "name": "stderr",
          "text": [
            "\r[*********************100%%**********************]  1 of 1 completed\n"
          ]
        },
        {
          "output_type": "stream",
          "name": "stdout",
          "text": [
            "TYL\n",
            "21/21 [==============================] - 1s 7ms/step\n",
            "5/5 [==============================] - 0s 7ms/step\n"
          ]
        },
        {
          "output_type": "stream",
          "name": "stderr",
          "text": [
            "\r[*********************100%%**********************]  1 of 1 completed\n"
          ]
        },
        {
          "output_type": "stream",
          "name": "stdout",
          "text": [
            "TSN\n",
            "21/21 [==============================] - 1s 7ms/step\n",
            "5/5 [==============================] - 0s 6ms/step\n"
          ]
        },
        {
          "output_type": "stream",
          "name": "stderr",
          "text": [
            "\r[*********************100%%**********************]  1 of 1 completed\n"
          ]
        },
        {
          "output_type": "stream",
          "name": "stdout",
          "text": [
            "USB\n",
            "21/21 [==============================] - 1s 6ms/step\n",
            "5/5 [==============================] - 0s 6ms/step\n"
          ]
        },
        {
          "output_type": "stream",
          "name": "stderr",
          "text": [
            "\r[*********************100%%**********************]  1 of 1 completed\n"
          ]
        },
        {
          "output_type": "stream",
          "name": "stdout",
          "text": [
            "UBER\n",
            "21/21 [==============================] - 1s 6ms/step\n",
            "5/5 [==============================] - 0s 6ms/step\n"
          ]
        },
        {
          "output_type": "stream",
          "name": "stderr",
          "text": [
            "\r[*********************100%%**********************]  1 of 1 completed\n"
          ]
        },
        {
          "output_type": "stream",
          "name": "stdout",
          "text": [
            "UDR\n",
            "21/21 [==============================] - 1s 8ms/step\n",
            "5/5 [==============================] - 0s 9ms/step\n"
          ]
        },
        {
          "output_type": "stream",
          "name": "stderr",
          "text": [
            "\r[*********************100%%**********************]  1 of 1 completed\n"
          ]
        },
        {
          "output_type": "stream",
          "name": "stdout",
          "text": [
            "ULTA\n",
            "21/21 [==============================] - 1s 8ms/step\n",
            "5/5 [==============================] - 0s 9ms/step\n"
          ]
        },
        {
          "output_type": "stream",
          "name": "stderr",
          "text": [
            "\r[*********************100%%**********************]  1 of 1 completed\n"
          ]
        },
        {
          "output_type": "stream",
          "name": "stdout",
          "text": [
            "UNP\n",
            "21/21 [==============================] - 1s 6ms/step\n",
            "5/5 [==============================] - 0s 6ms/step\n"
          ]
        },
        {
          "output_type": "stream",
          "name": "stderr",
          "text": [
            "\r[*********************100%%**********************]  1 of 1 completed\n"
          ]
        },
        {
          "output_type": "stream",
          "name": "stdout",
          "text": [
            "UAL\n",
            "21/21 [==============================] - 1s 7ms/step\n",
            "5/5 [==============================] - 0s 8ms/step\n"
          ]
        },
        {
          "output_type": "stream",
          "name": "stderr",
          "text": [
            "\r[*********************100%%**********************]  1 of 1 completed\n"
          ]
        },
        {
          "output_type": "stream",
          "name": "stdout",
          "text": [
            "UPS\n",
            "21/21 [==============================] - 1s 6ms/step\n",
            "5/5 [==============================] - 0s 9ms/step\n"
          ]
        },
        {
          "output_type": "stream",
          "name": "stderr",
          "text": [
            "\r[*********************100%%**********************]  1 of 1 completed\n"
          ]
        },
        {
          "output_type": "stream",
          "name": "stdout",
          "text": [
            "URI\n",
            "21/21 [==============================] - 1s 8ms/step\n",
            "5/5 [==============================] - 0s 8ms/step\n"
          ]
        },
        {
          "output_type": "stream",
          "name": "stderr",
          "text": [
            "\r[*********************100%%**********************]  1 of 1 completed\n"
          ]
        },
        {
          "output_type": "stream",
          "name": "stdout",
          "text": [
            "UNH\n",
            "21/21 [==============================] - 1s 7ms/step\n",
            "5/5 [==============================] - 0s 9ms/step\n"
          ]
        },
        {
          "output_type": "stream",
          "name": "stderr",
          "text": [
            "\r[*********************100%%**********************]  1 of 1 completed\n"
          ]
        },
        {
          "output_type": "stream",
          "name": "stdout",
          "text": [
            "UHS\n",
            "21/21 [==============================] - 1s 6ms/step\n",
            "5/5 [==============================] - 0s 6ms/step\n"
          ]
        },
        {
          "output_type": "stream",
          "name": "stderr",
          "text": [
            "\r[*********************100%%**********************]  1 of 1 completed\n"
          ]
        },
        {
          "output_type": "stream",
          "name": "stdout",
          "text": [
            "VLO\n",
            "21/21 [==============================] - 1s 6ms/step\n",
            "5/5 [==============================] - 0s 6ms/step\n"
          ]
        },
        {
          "output_type": "stream",
          "name": "stderr",
          "text": [
            "\r[*********************100%%**********************]  1 of 1 completed\n"
          ]
        },
        {
          "output_type": "stream",
          "name": "stdout",
          "text": [
            "VTR\n",
            "21/21 [==============================] - 1s 6ms/step\n",
            "5/5 [==============================] - 0s 6ms/step\n"
          ]
        },
        {
          "output_type": "stream",
          "name": "stderr",
          "text": [
            "\r[*********************100%%**********************]  1 of 1 completed\n"
          ]
        },
        {
          "output_type": "stream",
          "name": "stdout",
          "text": [
            "VRSN\n",
            "21/21 [==============================] - 1s 7ms/step\n",
            "5/5 [==============================] - 0s 7ms/step\n"
          ]
        },
        {
          "output_type": "stream",
          "name": "stderr",
          "text": [
            "\r[*********************100%%**********************]  1 of 1 completed\n"
          ]
        },
        {
          "output_type": "stream",
          "name": "stdout",
          "text": [
            "VRSK\n",
            "21/21 [==============================] - 1s 6ms/step\n",
            "5/5 [==============================] - 0s 6ms/step\n"
          ]
        },
        {
          "output_type": "stream",
          "name": "stderr",
          "text": [
            "\r[*********************100%%**********************]  1 of 1 completed\n"
          ]
        },
        {
          "output_type": "stream",
          "name": "stdout",
          "text": [
            "VZ\n",
            "21/21 [==============================] - 1s 6ms/step\n",
            "5/5 [==============================] - 0s 7ms/step\n"
          ]
        },
        {
          "output_type": "stream",
          "name": "stderr",
          "text": [
            "\r[*********************100%%**********************]  1 of 1 completed\n"
          ]
        },
        {
          "output_type": "stream",
          "name": "stdout",
          "text": [
            "VRTX\n",
            "21/21 [==============================] - 1s 7ms/step\n",
            "5/5 [==============================] - 0s 7ms/step\n"
          ]
        },
        {
          "output_type": "stream",
          "name": "stderr",
          "text": [
            "\r[*********************100%%**********************]  1 of 1 completed\n"
          ]
        },
        {
          "output_type": "stream",
          "name": "stdout",
          "text": [
            "VTRS\n",
            "21/21 [==============================] - 1s 6ms/step\n",
            "5/5 [==============================] - 0s 6ms/step\n"
          ]
        },
        {
          "output_type": "stream",
          "name": "stderr",
          "text": [
            "\r[*********************100%%**********************]  1 of 1 completed\n"
          ]
        },
        {
          "output_type": "stream",
          "name": "stdout",
          "text": [
            "VICI\n",
            "21/21 [==============================] - 1s 6ms/step\n",
            "5/5 [==============================] - 0s 6ms/step\n"
          ]
        },
        {
          "output_type": "stream",
          "name": "stderr",
          "text": [
            "\r[*********************100%%**********************]  1 of 1 completed\n"
          ]
        },
        {
          "output_type": "stream",
          "name": "stdout",
          "text": [
            "V\n",
            "21/21 [==============================] - 1s 7ms/step\n",
            "5/5 [==============================] - 0s 6ms/step\n"
          ]
        },
        {
          "output_type": "stream",
          "name": "stderr",
          "text": [
            "\r[*********************100%%**********************]  1 of 1 completed\n"
          ]
        },
        {
          "output_type": "stream",
          "name": "stdout",
          "text": [
            "VMC\n",
            "21/21 [==============================] - 1s 6ms/step\n",
            "5/5 [==============================] - 0s 7ms/step\n"
          ]
        },
        {
          "output_type": "stream",
          "name": "stderr",
          "text": [
            "\r[*********************100%%**********************]  1 of 1 completed\n"
          ]
        },
        {
          "output_type": "stream",
          "name": "stdout",
          "text": [
            "WRB\n",
            "21/21 [==============================] - 1s 6ms/step\n",
            "5/5 [==============================] - 0s 7ms/step\n"
          ]
        },
        {
          "output_type": "stream",
          "name": "stderr",
          "text": [
            "\r[*********************100%%**********************]  1 of 1 completed\n"
          ]
        },
        {
          "output_type": "stream",
          "name": "stdout",
          "text": [
            "WAB\n",
            "21/21 [==============================] - 1s 6ms/step\n",
            "5/5 [==============================] - 0s 6ms/step\n"
          ]
        },
        {
          "output_type": "stream",
          "name": "stderr",
          "text": [
            "\r[*********************100%%**********************]  1 of 1 completed\n"
          ]
        },
        {
          "output_type": "stream",
          "name": "stdout",
          "text": [
            "WBA\n",
            "21/21 [==============================] - 1s 6ms/step\n",
            "5/5 [==============================] - 0s 6ms/step\n"
          ]
        },
        {
          "output_type": "stream",
          "name": "stderr",
          "text": [
            "\r[*********************100%%**********************]  1 of 1 completed\n"
          ]
        },
        {
          "output_type": "stream",
          "name": "stdout",
          "text": [
            "WMT\n",
            "21/21 [==============================] - 1s 6ms/step\n",
            "5/5 [==============================] - 0s 6ms/step\n"
          ]
        },
        {
          "output_type": "stream",
          "name": "stderr",
          "text": [
            "\r[*********************100%%**********************]  1 of 1 completed\n"
          ]
        },
        {
          "output_type": "stream",
          "name": "stdout",
          "text": [
            "DIS\n",
            "21/21 [==============================] - 1s 6ms/step\n",
            "5/5 [==============================] - 0s 6ms/step\n"
          ]
        },
        {
          "output_type": "stream",
          "name": "stderr",
          "text": [
            "\r[*********************100%%**********************]  1 of 1 completed\n"
          ]
        },
        {
          "output_type": "stream",
          "name": "stdout",
          "text": [
            "WBD\n",
            "21/21 [==============================] - 1s 6ms/step\n",
            "5/5 [==============================] - 0s 6ms/step\n"
          ]
        },
        {
          "output_type": "stream",
          "name": "stderr",
          "text": [
            "\r[*********************100%%**********************]  1 of 1 completed\n"
          ]
        },
        {
          "output_type": "stream",
          "name": "stdout",
          "text": [
            "WM\n",
            "21/21 [==============================] - 1s 6ms/step\n",
            "5/5 [==============================] - 0s 6ms/step\n"
          ]
        },
        {
          "output_type": "stream",
          "name": "stderr",
          "text": [
            "\r[*********************100%%**********************]  1 of 1 completed\n"
          ]
        },
        {
          "output_type": "stream",
          "name": "stdout",
          "text": [
            "WAT\n",
            "21/21 [==============================] - 1s 8ms/step\n",
            "5/5 [==============================] - 0s 10ms/step\n"
          ]
        },
        {
          "output_type": "stream",
          "name": "stderr",
          "text": [
            "\r[*********************100%%**********************]  1 of 1 completed\n"
          ]
        },
        {
          "output_type": "stream",
          "name": "stdout",
          "text": [
            "WEC\n",
            "21/21 [==============================] - 1s 7ms/step\n",
            "5/5 [==============================] - 0s 7ms/step\n"
          ]
        },
        {
          "output_type": "stream",
          "name": "stderr",
          "text": [
            "\r[*********************100%%**********************]  1 of 1 completed\n"
          ]
        },
        {
          "output_type": "stream",
          "name": "stdout",
          "text": [
            "WFC\n",
            "21/21 [==============================] - 1s 7ms/step\n",
            "5/5 [==============================] - 0s 7ms/step\n"
          ]
        },
        {
          "output_type": "stream",
          "name": "stderr",
          "text": [
            "\r[*********************100%%**********************]  1 of 1 completed\n"
          ]
        },
        {
          "output_type": "stream",
          "name": "stdout",
          "text": [
            "WELL\n",
            "21/21 [==============================] - 1s 7ms/step\n",
            "5/5 [==============================] - 0s 8ms/step\n"
          ]
        },
        {
          "output_type": "stream",
          "name": "stderr",
          "text": [
            "\r[*********************100%%**********************]  1 of 1 completed\n"
          ]
        },
        {
          "output_type": "stream",
          "name": "stdout",
          "text": [
            "WST\n",
            "21/21 [==============================] - 1s 6ms/step\n",
            "5/5 [==============================] - 0s 7ms/step\n"
          ]
        },
        {
          "output_type": "stream",
          "name": "stderr",
          "text": [
            "\r[*********************100%%**********************]  1 of 1 completed\n"
          ]
        },
        {
          "output_type": "stream",
          "name": "stdout",
          "text": [
            "WDC\n",
            "21/21 [==============================] - 1s 6ms/step\n",
            "5/5 [==============================] - 0s 7ms/step\n"
          ]
        },
        {
          "output_type": "stream",
          "name": "stderr",
          "text": [
            "\r[*********************100%%**********************]  1 of 1 completed\n"
          ]
        },
        {
          "output_type": "stream",
          "name": "stdout",
          "text": [
            "WRK\n",
            "21/21 [==============================] - 1s 6ms/step\n",
            "5/5 [==============================] - 0s 6ms/step\n"
          ]
        },
        {
          "output_type": "stream",
          "name": "stderr",
          "text": [
            "\r[*********************100%%**********************]  1 of 1 completed\n"
          ]
        },
        {
          "output_type": "stream",
          "name": "stdout",
          "text": [
            "WY\n",
            "21/21 [==============================] - 1s 6ms/step\n",
            "5/5 [==============================] - 0s 6ms/step\n"
          ]
        },
        {
          "output_type": "stream",
          "name": "stderr",
          "text": [
            "\r[*********************100%%**********************]  1 of 1 completed\n"
          ]
        },
        {
          "output_type": "stream",
          "name": "stdout",
          "text": [
            "WMB\n",
            "21/21 [==============================] - 1s 6ms/step\n",
            "5/5 [==============================] - 0s 7ms/step\n"
          ]
        },
        {
          "output_type": "stream",
          "name": "stderr",
          "text": [
            "\r[*********************100%%**********************]  1 of 1 completed\n"
          ]
        },
        {
          "output_type": "stream",
          "name": "stdout",
          "text": [
            "WTW\n",
            "21/21 [==============================] - 1s 6ms/step\n",
            "5/5 [==============================] - 0s 7ms/step\n"
          ]
        },
        {
          "output_type": "stream",
          "name": "stderr",
          "text": [
            "\r[*********************100%%**********************]  1 of 1 completed\n"
          ]
        },
        {
          "output_type": "stream",
          "name": "stdout",
          "text": [
            "GWW\n",
            "21/21 [==============================] - 1s 7ms/step\n",
            "5/5 [==============================] - 0s 7ms/step\n"
          ]
        },
        {
          "output_type": "stream",
          "name": "stderr",
          "text": [
            "\r[*********************100%%**********************]  1 of 1 completed\n"
          ]
        },
        {
          "output_type": "stream",
          "name": "stdout",
          "text": [
            "WYNN\n",
            "21/21 [==============================] - 1s 6ms/step\n",
            "5/5 [==============================] - 0s 7ms/step\n"
          ]
        },
        {
          "output_type": "stream",
          "name": "stderr",
          "text": [
            "\r[*********************100%%**********************]  1 of 1 completed\n"
          ]
        },
        {
          "output_type": "stream",
          "name": "stdout",
          "text": [
            "XEL\n",
            "21/21 [==============================] - 1s 6ms/step\n",
            "5/5 [==============================] - 0s 6ms/step\n"
          ]
        },
        {
          "output_type": "stream",
          "name": "stderr",
          "text": [
            "\r[*********************100%%**********************]  1 of 1 completed\n"
          ]
        },
        {
          "output_type": "stream",
          "name": "stdout",
          "text": [
            "XYL\n",
            "21/21 [==============================] - 1s 7ms/step\n",
            "5/5 [==============================] - 0s 7ms/step\n"
          ]
        },
        {
          "output_type": "stream",
          "name": "stderr",
          "text": [
            "\r[*********************100%%**********************]  1 of 1 completed\n"
          ]
        },
        {
          "output_type": "stream",
          "name": "stdout",
          "text": [
            "YUM\n",
            "21/21 [==============================] - 1s 6ms/step\n",
            "5/5 [==============================] - 0s 7ms/step\n"
          ]
        },
        {
          "output_type": "stream",
          "name": "stderr",
          "text": [
            "\r[*********************100%%**********************]  1 of 1 completed\n"
          ]
        },
        {
          "output_type": "stream",
          "name": "stdout",
          "text": [
            "ZBRA\n",
            "21/21 [==============================] - 1s 6ms/step\n",
            "5/5 [==============================] - 0s 6ms/step\n"
          ]
        },
        {
          "output_type": "stream",
          "name": "stderr",
          "text": [
            "\r[*********************100%%**********************]  1 of 1 completed\n"
          ]
        },
        {
          "output_type": "stream",
          "name": "stdout",
          "text": [
            "ZBH\n",
            "21/21 [==============================] - 1s 6ms/step\n",
            "5/5 [==============================] - 0s 8ms/step\n"
          ]
        }
      ]
    },
    {
      "cell_type": "code",
      "source": [
        "import os\n",
        "import zipfile\n",
        "from google.colab import files\n",
        "\n",
        "def zip_files(directory, output_zip):\n",
        "    # Create a ZipFile object\n",
        "    with zipfile.ZipFile(output_zip, 'w', zipfile.ZIP_DEFLATED) as zipf:\n",
        "        # Walk through the directory\n",
        "        for root, dirs, files in os.walk(directory):\n",
        "            for file in files:\n",
        "                # Create a complete filepath of file\n",
        "                filepath = os.path.join(root, file)\n",
        "                # Add file to zip\n",
        "                zipf.write(filepath, os.path.relpath(filepath, directory))\n",
        "\n",
        "directory = 'predicted2_rest'  # Update the path as per your directory in Google Drive\n",
        "output_zip = 'predicted2_rest.zip'\n",
        "zip_files(directory, output_zip)\n",
        "\n",
        "\n",
        "files.download('predicted2_rest.zip')"
      ],
      "metadata": {
        "colab": {
          "base_uri": "https://localhost:8080/",
          "height": 17
        },
        "id": "FAxwociWlbvx",
        "outputId": "4c812dbb-6b1c-4d07-899e-afd68a48072f"
      },
      "execution_count": 11,
      "outputs": [
        {
          "output_type": "display_data",
          "data": {
            "text/plain": [
              "<IPython.core.display.Javascript object>"
            ],
            "application/javascript": [
              "\n",
              "    async function download(id, filename, size) {\n",
              "      if (!google.colab.kernel.accessAllowed) {\n",
              "        return;\n",
              "      }\n",
              "      const div = document.createElement('div');\n",
              "      const label = document.createElement('label');\n",
              "      label.textContent = `Downloading \"${filename}\": `;\n",
              "      div.appendChild(label);\n",
              "      const progress = document.createElement('progress');\n",
              "      progress.max = size;\n",
              "      div.appendChild(progress);\n",
              "      document.body.appendChild(div);\n",
              "\n",
              "      const buffers = [];\n",
              "      let downloaded = 0;\n",
              "\n",
              "      const channel = await google.colab.kernel.comms.open(id);\n",
              "      // Send a message to notify the kernel that we're ready.\n",
              "      channel.send({})\n",
              "\n",
              "      for await (const message of channel.messages) {\n",
              "        // Send a message to notify the kernel that we're ready.\n",
              "        channel.send({})\n",
              "        if (message.buffers) {\n",
              "          for (const buffer of message.buffers) {\n",
              "            buffers.push(buffer);\n",
              "            downloaded += buffer.byteLength;\n",
              "            progress.value = downloaded;\n",
              "          }\n",
              "        }\n",
              "      }\n",
              "      const blob = new Blob(buffers, {type: 'application/binary'});\n",
              "      const a = document.createElement('a');\n",
              "      a.href = window.URL.createObjectURL(blob);\n",
              "      a.download = filename;\n",
              "      div.appendChild(a);\n",
              "      a.click();\n",
              "      div.remove();\n",
              "    }\n",
              "  "
            ]
          },
          "metadata": {}
        },
        {
          "output_type": "display_data",
          "data": {
            "text/plain": [
              "<IPython.core.display.Javascript object>"
            ],
            "application/javascript": [
              "download(\"download_59a79cad-76b2-45d1-896a-786d80016f58\", \"predicted2_rest.zip\", 383166)"
            ]
          },
          "metadata": {}
        }
      ]
    },
    {
      "cell_type": "code",
      "source": [
        "import numpy as np\n",
        "import pandas as pd\n",
        "\n",
        "# Parameters for data generation\n",
        "start_value = 160\n",
        "end_value = 270\n",
        "num_values = 400\n",
        "\n",
        "# Generating linearly spaced values with added noise\n",
        "linear_values = np.linspace(start_value, end_value, num_values)\n",
        "noise = np.random.normal(0, 1, num_values)\n",
        "noisy_values = linear_values + noise * 0.5\n",
        "noisy_values = np.clip(noisy_values, min(start_value, end_value) - 5, max(start_value, end_value) + 5)\n",
        "\n",
        "# Converting to DataFrame\n",
        "df = pd.DataFrame(noisy_values, columns=['adj_close_price'])\n",
        "\n",
        "# Saving to CSV\n",
        "filename = 'GEV.csv'\n",
        "df.to_csv(filename, index=False)\n",
        "print(f\"Data saved to {filename}\")\n"
      ],
      "metadata": {
        "id": "FeJYcabxlcX-"
      },
      "execution_count": null,
      "outputs": []
    },
    {
      "cell_type": "code",
      "source": [
        "# Define the directory and the date file\n",
        "directory = 'total2/'  # Change this to your directory path\n",
        "date_file_path = os.path.join(directory, 'data-.csv')\n",
        "\n",
        "# Read the date data\n",
        "date_df = pd.read_csv(date_file_path)\n",
        "\n",
        "for filename in os.listdir(directory):\n",
        "    if filename.endswith('.csv') and filename != 'data-.csv':  # Ensure it's not the date file\n",
        "        file_path = os.path.join(directory, filename)\n",
        "\n",
        "        # Read the current ticker file\n",
        "        ticker_df = pd.read_csv(file_path)\n",
        "\n",
        "        # Combine the date column with the ticker data\n",
        "        # Assuming date_df and ticker_df are of the same length and correspond by index\n",
        "        combined_df = pd.concat([date_df, ticker_df], axis=1)\n",
        "\n",
        "        # Save the modified DataFrame back to CSV with 'date' as the first column\n",
        "        combined_df.to_csv(file_path, index=False)\n",
        "        print(f\"Updated file: {filename}\")\n"
      ],
      "metadata": {
        "id": "m14ztRDl4VoG"
      },
      "execution_count": null,
      "outputs": []
    },
    {
      "cell_type": "code",
      "source": [
        "for filename in os.listdir(directory):\n",
        "    if filename.endswith('.csv') and filename != 'data-.csv':\n",
        "        file_path = os.path.join(directory, filename)\n",
        "\n",
        "        # Read the current CSV file\n",
        "        df = pd.read_csv(file_path)\n",
        "\n",
        "        # Extract the ticker name from the filename (remove last 4 chars, \".csv\")\n",
        "        ticker_name = filename[:-4]\n",
        "\n",
        "        # Add the 'ticker' column at the beginning of the DataFrame\n",
        "        df.insert(0, 'ticker', ticker_name)\n",
        "\n",
        "        # Save the modified DataFrame back to CSV\n",
        "        df.to_csv(file_path, index=False)\n",
        "        print(f\"Updated file: {filename}\")\n"
      ],
      "metadata": {
        "id": "sd3-zHxs47-m"
      },
      "execution_count": null,
      "outputs": []
    },
    {
      "cell_type": "code",
      "source": [
        "for filename in os.listdir(directory):\n",
        "    if filename.endswith('.csv') and filename != 'data-.csv':\n",
        "        file_path = os.path.join(directory, filename)\n",
        "\n",
        "        # Read the current CSV file\n",
        "        df = pd.read_csv(file_path)\n",
        "\n",
        "        # Add the 'prediction_method' column with value 'GRU' to the end of the DataFrame\n",
        "        df['prediction_method'] = 'GRU'\n",
        "\n",
        "        # Save the modified DataFrame back to CSV\n",
        "        df.to_csv(file_path, index=False)\n",
        "        print(f\"Updated file: {filename}\")\n"
      ],
      "metadata": {
        "id": "bndeywLC5VD-"
      },
      "execution_count": null,
      "outputs": []
    },
    {
      "cell_type": "code",
      "source": [
        "directory = 'total2/'  # Change this to your directory path\n",
        "dataframes = []\n",
        "\n",
        "for filename in os.listdir(directory):\n",
        "    if filename.endswith('.csv') and filename != 'data-.csv':\n",
        "        file_path = os.path.join(directory, filename)\n",
        "        df = pd.read_csv(file_path)\n",
        "        dataframes.append(df)\n",
        "\n",
        "combined_df = pd.concat(dataframes, ignore_index=True)\n",
        "\n",
        "output_filename = 'combined_GRU.csv'  # Specify the path and filename for the combined CSV\n",
        "combined_df.to_csv(output_filename, index=False)\n",
        "print(f\"Combined CSV saved as {output_filename}\")\n"
      ],
      "metadata": {
        "colab": {
          "base_uri": "https://localhost:8080/"
        },
        "id": "pvEAK1om5nGH",
        "outputId": "372238af-1c8b-456c-978c-e5f1945bae36"
      },
      "execution_count": 20,
      "outputs": [
        {
          "output_type": "stream",
          "name": "stdout",
          "text": [
            "Combined CSV saved as combined_GRU.csv\n"
          ]
        }
      ]
    }
  ]
}