{
  "nbformat": 4,
  "nbformat_minor": 0,
  "metadata": {
    "colab": {
      "provenance": [],
      "gpuType": "T4"
    },
    "kernelspec": {
      "name": "python3",
      "display_name": "Python 3"
    },
    "language_info": {
      "name": "python"
    },
    "accelerator": "GPU"
  },
  "cells": [
    {
      "cell_type": "code",
      "execution_count": 1,
      "metadata": {
        "id": "qm_lpWPjtfqa"
      },
      "outputs": [],
      "source": [
        "\n",
        "import pandas as pd\n",
        "import pandas_datareader as pdr\n",
        "from datetime import datetime\n",
        "import yfinance as yf\n",
        "import matplotlib.pyplot as plt\n",
        "import numpy as np\n",
        "from sklearn.preprocessing import MinMaxScaler\n",
        "\n",
        "### Create the Stacked LSTM model\n",
        "from tensorflow.keras.models import Sequential\n",
        "from tensorflow.keras.layers import Dense\n",
        "from tensorflow.keras.layers import LSTM\n",
        "import tensorflow as tf\n",
        "\n",
        "import math\n",
        "from sklearn.metrics import mean_squared_error\n",
        "\n",
        "from numpy import array"
      ]
    },
    {
      "cell_type": "code",
      "source": [
        "# Fetch List of sp500 tickers\n",
        "import pandas as pd\n",
        "import pandas_datareader as pdr\n",
        "from datetime import datetime\n",
        "\n",
        "def get_sp500_tickers():\n",
        "  table = pd.read_html('https://en.wikipedia.org/wiki/List_of_S%26P_500_companies')\n",
        "  sp500_df = table[0]\n",
        "\n",
        "  tickers = sp500_df['Symbol'].tolist()\n",
        "\n",
        "  tickers = [ticker.replace('.', '-') for ticker in tickers]\n",
        "\n",
        "  # Split the list into two halves\n",
        "  # quarter_point = len(tickers) // 4\n",
        "  # tickers_first_quarter = tickers[:quarter_point]\n",
        "  # tickers_second_quarter = tickers[quarter_point:2*quarter_point]\n",
        "  # tickers_third_quarter = tickers[2*quarter_point:3*quarter_point]\n",
        "  # tickers_fourth_quarter = tickers[3*quarter_point:]\n",
        "\n",
        "  return tickers\n",
        "\n",
        "# Fetch and split the S&P 500 tickers\n",
        "\n",
        "\n",
        "sp500 = get_sp500_tickers()\n"
      ],
      "metadata": {
        "id": "5KIZpP1itibS"
      },
      "execution_count": 6,
      "outputs": []
    },
    {
      "cell_type": "code",
      "source": [
        "if \"VLTO\" in tickers_fourth_quarter:\n",
        "    index_of_gev = tickers_fourth_quarter.index(\"VLTO\")\n",
        "    tickers_fourth_quarter = tickers_fourth_quarter[index_of_gev + 1:]"
      ],
      "metadata": {
        "id": "gKzFcC6ztp04"
      },
      "execution_count": 3,
      "outputs": []
    },
    {
      "cell_type": "code",
      "source": [
        "for ticker in tickers_fourth_quarter:\n",
        "  start_date = '2014-01-01'\n",
        "  end_date ='2024-04-19'\n",
        "\n",
        "  stock_data = yf.download(ticker, start=start_date, end=end_date)\n",
        "\n",
        "  filename = f\"outputprices4rest4/{ticker}.csv\"\n",
        "  stock_data.to_csv(f'historical/{ticker}_hist.csv')\n",
        "  df=pd.read_csv(f'historical/{ticker}_hist.csv')\n",
        "\n",
        "  df1=df.reset_index()['Adj Close']\n",
        "\n",
        "  scaler=MinMaxScaler(feature_range=(0,1))\n",
        "  df1=scaler.fit_transform(np.array(df1).reshape(-1,1))\n",
        "\n",
        "  training_size=int(len(df1)*0.65)\n",
        "  test_size=len(df1)-training_size\n",
        "  train_data,test_data=df1[0:training_size,:],df1[training_size:len(df1),:1]\n",
        "\n",
        "  # convert an array of values into a dataset matrix\n",
        "  def create_dataset(dataset, time_step=1):\n",
        "    dataX, dataY = [], []\n",
        "    for i in range(len(dataset)-time_step-1):\n",
        "      a = dataset[i:(i+time_step), 0]   ###i=0, 0,1,2,3-----99   100\n",
        "      dataX.append(a)\n",
        "      dataY.append(dataset[i + time_step, 0])\n",
        "    return np.array(dataX), np.array(dataY)\n",
        "\n",
        "\n",
        "  # reshape into X=t,t+1,t+2,t+3 and Y=t+4\n",
        "  time_step = 100\n",
        "  X_train, y_train = create_dataset(train_data, time_step)\n",
        "  X_test, ytest = create_dataset(test_data, time_step)\n",
        "\n",
        "  # reshape input to be [samples, time steps, features] which is required for LSTM\n",
        "  X_train =X_train.reshape(X_train.shape[0],X_train.shape[1] , 1)\n",
        "  X_test = X_test.reshape(X_test.shape[0],X_test.shape[1] , 1)\n",
        "\n",
        "  model=Sequential()\n",
        "  model.add(LSTM(50,return_sequences=True,input_shape=(100,1)))\n",
        "  model.add(LSTM(50,return_sequences=True))\n",
        "  model.add(LSTM(50))\n",
        "  model.add(Dense(1))\n",
        "  model.compile(loss='mean_squared_error',optimizer='adam')\n",
        "\n",
        "  model.fit(X_train,y_train,validation_data=(X_test,ytest),epochs=20,batch_size=56,verbose=0)\n",
        "\n",
        "  ### Lets Do the prediction and check performance metrics\n",
        "  train_predict=model.predict(X_train)\n",
        "  test_predict=model.predict(X_test)\n",
        "\n",
        "  ##Transformback to original form\n",
        "  train_predict=scaler.inverse_transform(train_predict)\n",
        "  test_predict=scaler.inverse_transform(test_predict)\n",
        "\n",
        "  x_input=test_data[len(test_data)-100:].reshape(1,-1)\n",
        "  x_input.shape\n",
        "\n",
        "  temp_input=list(x_input)\n",
        "  temp_input=temp_input[0].tolist()\n",
        "\n",
        "\n",
        "  # demonstrate prediction for next 550 days\n",
        "\n",
        "  lst_output=[]\n",
        "  n_steps=100\n",
        "  i=0\n",
        "  while(i<400):\n",
        "\n",
        "      if(len(temp_input)>100):\n",
        "          #print(temp_input)\n",
        "          x_input=np.array(temp_input[1:])\n",
        "          # print(\"{} day input {}\".format(i,x_input))\n",
        "          x_input=x_input.reshape(1,-1)\n",
        "          x_input = x_input.reshape((1, n_steps, 1))\n",
        "          #print(x_input)\n",
        "          yhat = model.predict(x_input, verbose=0)\n",
        "          # print(\"{} day output {}\".format(i,yhat))\n",
        "          temp_input.extend(yhat[0].tolist())\n",
        "          temp_input=temp_input[1:]\n",
        "          #print(temp_input)\n",
        "          lst_output.extend(yhat.tolist())\n",
        "          i=i+1\n",
        "      else:\n",
        "          x_input = x_input.reshape((1, n_steps,1))\n",
        "          yhat = model.predict(x_input, verbose=0)\n",
        "          # print(yhat[0])\n",
        "          temp_input.extend(yhat[0].tolist())\n",
        "          # print(len(temp_input))\n",
        "          lst_output.extend(yhat.tolist())\n",
        "          i=i+1\n",
        "\n",
        "  lst_output=scaler.inverse_transform(lst_output).tolist()\n",
        "  df = pd.DataFrame(lst_output)\n",
        "\n",
        "  # Save the DataFrame to a CSV file\n",
        "  df.to_csv(filename, index=False)"
      ],
      "metadata": {
        "colab": {
          "base_uri": "https://localhost:8080/"
        },
        "id": "OupK9e4wtsNU",
        "outputId": "fdc43abf-1ec8-4000-dbc6-e81c843d09b6"
      },
      "execution_count": 4,
      "outputs": [
        {
          "output_type": "stream",
          "name": "stderr",
          "text": [
            "\r[*********************100%%**********************]  1 of 1 completed\n"
          ]
        },
        {
          "output_type": "stream",
          "name": "stdout",
          "text": [
            "50/50 [==============================] - 2s 6ms/step\n",
            "26/26 [==============================] - 0s 6ms/step\n"
          ]
        },
        {
          "output_type": "stream",
          "name": "stderr",
          "text": [
            "\r[*********************100%%**********************]  1 of 1 completed\n"
          ]
        },
        {
          "output_type": "stream",
          "name": "stdout",
          "text": [
            "50/50 [==============================] - 2s 8ms/step\n",
            "26/26 [==============================] - 0s 7ms/step\n"
          ]
        },
        {
          "output_type": "stream",
          "name": "stderr",
          "text": [
            "\r[*********************100%%**********************]  1 of 1 completed\n"
          ]
        },
        {
          "output_type": "stream",
          "name": "stdout",
          "text": [
            "50/50 [==============================] - 1s 7ms/step\n",
            "26/26 [==============================] - 0s 6ms/step\n"
          ]
        },
        {
          "output_type": "stream",
          "name": "stderr",
          "text": [
            "\r[*********************100%%**********************]  1 of 1 completed\n"
          ]
        },
        {
          "output_type": "stream",
          "name": "stdout",
          "text": [
            "50/50 [==============================] - 1s 8ms/step\n",
            "26/26 [==============================] - 0s 7ms/step\n"
          ]
        },
        {
          "output_type": "stream",
          "name": "stderr",
          "text": [
            "\r[*********************100%%**********************]  1 of 1 completed\n"
          ]
        },
        {
          "output_type": "stream",
          "name": "stdout",
          "text": [
            "50/50 [==============================] - 2s 9ms/step\n",
            "26/26 [==============================] - 0s 8ms/step\n"
          ]
        },
        {
          "output_type": "stream",
          "name": "stderr",
          "text": [
            "\r[*********************100%%**********************]  1 of 1 completed\n"
          ]
        },
        {
          "output_type": "stream",
          "name": "stdout",
          "text": [
            "29/29 [==============================] - 1s 7ms/step\n",
            "15/15 [==============================] - 1s 7ms/step\n"
          ]
        },
        {
          "output_type": "stream",
          "name": "stderr",
          "text": [
            "\r[*********************100%%**********************]  1 of 1 completed\n"
          ]
        },
        {
          "output_type": "stream",
          "name": "stdout",
          "text": [
            "50/50 [==============================] - 1s 7ms/step\n",
            "26/26 [==============================] - 0s 6ms/step\n"
          ]
        },
        {
          "output_type": "stream",
          "name": "stderr",
          "text": [
            "\r[*********************100%%**********************]  1 of 1 completed\n"
          ]
        },
        {
          "output_type": "stream",
          "name": "stdout",
          "text": [
            "50/50 [==============================] - 2s 9ms/step\n",
            "26/26 [==============================] - 0s 7ms/step\n"
          ]
        },
        {
          "output_type": "stream",
          "name": "stderr",
          "text": [
            "\r[*********************100%%**********************]  1 of 1 completed\n"
          ]
        },
        {
          "output_type": "stream",
          "name": "stdout",
          "text": [
            "50/50 [==============================] - 1s 6ms/step\n",
            "26/26 [==============================] - 0s 8ms/step\n"
          ]
        },
        {
          "output_type": "stream",
          "name": "stderr",
          "text": [
            "\r[*********************100%%**********************]  1 of 1 completed\n"
          ]
        },
        {
          "output_type": "stream",
          "name": "stdout",
          "text": [
            "50/50 [==============================] - 1s 8ms/step\n",
            "26/26 [==============================] - 0s 6ms/step\n"
          ]
        },
        {
          "output_type": "stream",
          "name": "stderr",
          "text": [
            "\r[*********************100%%**********************]  1 of 1 completed\n"
          ]
        },
        {
          "output_type": "stream",
          "name": "stdout",
          "text": [
            "50/50 [==============================] - 1s 6ms/step\n",
            "26/26 [==============================] - 0s 6ms/step\n"
          ]
        },
        {
          "output_type": "stream",
          "name": "stderr",
          "text": [
            "\r[*********************100%%**********************]  1 of 1 completed\n"
          ]
        },
        {
          "output_type": "stream",
          "name": "stdout",
          "text": [
            "50/50 [==============================] - 1s 7ms/step\n",
            "26/26 [==============================] - 0s 6ms/step\n"
          ]
        },
        {
          "output_type": "stream",
          "name": "stderr",
          "text": [
            "\r[*********************100%%**********************]  1 of 1 completed\n"
          ]
        },
        {
          "output_type": "stream",
          "name": "stdout",
          "text": [
            "50/50 [==============================] - 1s 7ms/step\n",
            "26/26 [==============================] - 0s 6ms/step\n"
          ]
        },
        {
          "output_type": "stream",
          "name": "stderr",
          "text": [
            "\r[*********************100%%**********************]  1 of 1 completed\n"
          ]
        },
        {
          "output_type": "stream",
          "name": "stdout",
          "text": [
            "50/50 [==============================] - 1s 6ms/step\n",
            "26/26 [==============================] - 0s 6ms/step\n"
          ]
        },
        {
          "output_type": "stream",
          "name": "stderr",
          "text": [
            "\r[*********************100%%**********************]  1 of 1 completed\n"
          ]
        },
        {
          "output_type": "stream",
          "name": "stdout",
          "text": [
            "50/50 [==============================] - 1s 7ms/step\n",
            "26/26 [==============================] - 0s 6ms/step\n"
          ]
        },
        {
          "output_type": "stream",
          "name": "stderr",
          "text": [
            "\r[*********************100%%**********************]  1 of 1 completed\n"
          ]
        },
        {
          "output_type": "stream",
          "name": "stdout",
          "text": [
            "50/50 [==============================] - 1s 7ms/step\n",
            "26/26 [==============================] - 0s 8ms/step\n"
          ]
        },
        {
          "output_type": "stream",
          "name": "stderr",
          "text": [
            "\r[*********************100%%**********************]  1 of 1 completed\n"
          ]
        },
        {
          "output_type": "stream",
          "name": "stdout",
          "text": [
            "50/50 [==============================] - 2s 9ms/step\n",
            "26/26 [==============================] - 0s 9ms/step\n"
          ]
        },
        {
          "output_type": "stream",
          "name": "stderr",
          "text": [
            "\r[*********************100%%**********************]  1 of 1 completed\n"
          ]
        },
        {
          "output_type": "stream",
          "name": "stdout",
          "text": [
            "50/50 [==============================] - 1s 7ms/step\n",
            "26/26 [==============================] - 0s 6ms/step\n"
          ]
        },
        {
          "output_type": "stream",
          "name": "stderr",
          "text": [
            "\r[*********************100%%**********************]  1 of 1 completed\n"
          ]
        },
        {
          "output_type": "stream",
          "name": "stdout",
          "text": [
            "50/50 [==============================] - 1s 7ms/step\n",
            "26/26 [==============================] - 0s 6ms/step\n"
          ]
        },
        {
          "output_type": "stream",
          "name": "stderr",
          "text": [
            "\r[*********************100%%**********************]  1 of 1 completed\n"
          ]
        },
        {
          "output_type": "stream",
          "name": "stdout",
          "text": [
            "50/50 [==============================] - 2s 8ms/step\n",
            "26/26 [==============================] - 0s 6ms/step\n"
          ]
        },
        {
          "output_type": "stream",
          "name": "stderr",
          "text": [
            "\r[*********************100%%**********************]  1 of 1 completed\n"
          ]
        },
        {
          "output_type": "stream",
          "name": "stdout",
          "text": [
            "50/50 [==============================] - 1s 8ms/step\n",
            "26/26 [==============================] - 0s 7ms/step\n"
          ]
        },
        {
          "output_type": "stream",
          "name": "stderr",
          "text": [
            "\r[*********************100%%**********************]  1 of 1 completed\n"
          ]
        },
        {
          "output_type": "stream",
          "name": "stdout",
          "text": [
            "42/42 [==============================] - 1s 8ms/step\n",
            "22/22 [==============================] - 0s 7ms/step\n"
          ]
        },
        {
          "output_type": "stream",
          "name": "stderr",
          "text": [
            "\r[*********************100%%**********************]  1 of 1 completed\n"
          ]
        },
        {
          "output_type": "stream",
          "name": "stdout",
          "text": [
            "50/50 [==============================] - 1s 8ms/step\n",
            "26/26 [==============================] - 0s 7ms/step\n"
          ]
        },
        {
          "output_type": "stream",
          "name": "stderr",
          "text": [
            "\r[*********************100%%**********************]  1 of 1 completed\n"
          ]
        },
        {
          "output_type": "stream",
          "name": "stdout",
          "text": [
            "50/50 [==============================] - 1s 8ms/step\n",
            "26/26 [==============================] - 0s 6ms/step\n"
          ]
        },
        {
          "output_type": "stream",
          "name": "stderr",
          "text": [
            "\r[*********************100%%**********************]  1 of 1 completed\n"
          ]
        },
        {
          "output_type": "stream",
          "name": "stdout",
          "text": [
            "50/50 [==============================] - 1s 9ms/step\n",
            "26/26 [==============================] - 0s 8ms/step\n"
          ]
        },
        {
          "output_type": "stream",
          "name": "stderr",
          "text": [
            "\r[*********************100%%**********************]  1 of 1 completed\n"
          ]
        },
        {
          "output_type": "stream",
          "name": "stdout",
          "text": [
            "50/50 [==============================] - 1s 7ms/step\n",
            "26/26 [==============================] - 0s 6ms/step\n"
          ]
        },
        {
          "output_type": "stream",
          "name": "stderr",
          "text": [
            "\r[*********************100%%**********************]  1 of 1 completed\n"
          ]
        },
        {
          "output_type": "stream",
          "name": "stdout",
          "text": [
            "50/50 [==============================] - 1s 7ms/step\n",
            "26/26 [==============================] - 0s 7ms/step\n"
          ]
        },
        {
          "output_type": "stream",
          "name": "stderr",
          "text": [
            "\r[*********************100%%**********************]  1 of 1 completed\n"
          ]
        },
        {
          "output_type": "stream",
          "name": "stdout",
          "text": [
            "50/50 [==============================] - 1s 7ms/step\n",
            "26/26 [==============================] - 0s 6ms/step\n"
          ]
        },
        {
          "output_type": "stream",
          "name": "stderr",
          "text": [
            "\r[*********************100%%**********************]  1 of 1 completed\n"
          ]
        },
        {
          "output_type": "stream",
          "name": "stdout",
          "text": [
            "50/50 [==============================] - 1s 7ms/step\n",
            "26/26 [==============================] - 0s 7ms/step\n"
          ]
        },
        {
          "output_type": "stream",
          "name": "stderr",
          "text": [
            "\r[*********************100%%**********************]  1 of 1 completed\n"
          ]
        },
        {
          "output_type": "stream",
          "name": "stdout",
          "text": [
            "50/50 [==============================] - 1s 6ms/step\n",
            "26/26 [==============================] - 0s 6ms/step\n"
          ]
        },
        {
          "output_type": "stream",
          "name": "stderr",
          "text": [
            "\r[*********************100%%**********************]  1 of 1 completed\n"
          ]
        },
        {
          "output_type": "stream",
          "name": "stdout",
          "text": [
            "50/50 [==============================] - 1s 7ms/step\n",
            "26/26 [==============================] - 0s 7ms/step\n"
          ]
        },
        {
          "output_type": "stream",
          "name": "stderr",
          "text": [
            "\r[*********************100%%**********************]  1 of 1 completed\n"
          ]
        },
        {
          "output_type": "stream",
          "name": "stdout",
          "text": [
            "50/50 [==============================] - 1s 6ms/step\n",
            "26/26 [==============================] - 0s 7ms/step\n"
          ]
        },
        {
          "output_type": "stream",
          "name": "stderr",
          "text": [
            "\r[*********************100%%**********************]  1 of 1 completed\n"
          ]
        },
        {
          "output_type": "stream",
          "name": "stdout",
          "text": [
            "50/50 [==============================] - 1s 7ms/step\n",
            "26/26 [==============================] - 0s 7ms/step\n"
          ]
        }
      ]
    },
    {
      "cell_type": "code",
      "source": [
        "import os\n",
        "import zipfile\n",
        "from google.colab import files\n",
        "\n",
        "def zip_files(directory, output_zip):\n",
        "    # Create a ZipFile object\n",
        "    with zipfile.ZipFile(output_zip, 'w', zipfile.ZIP_DEFLATED) as zipf:\n",
        "        # Walk through the directory\n",
        "        for root, dirs, files in os.walk(directory):\n",
        "            for file in files:\n",
        "                # Create a complete filepath of file\n",
        "                filepath = os.path.join(root, file)\n",
        "                # Add file to zip\n",
        "                zipf.write(filepath, os.path.relpath(filepath, directory))\n",
        "\n",
        "directory = 'outputprices4rest4'  # Update the path as per your directory in Google Drive\n",
        "output_zip = 'outputprices4rest4.zip'\n",
        "zip_files(directory, output_zip)\n",
        "\n",
        "\n",
        "files.download('outputprices4rest4.zip')\n",
        "\n"
      ],
      "metadata": {
        "colab": {
          "base_uri": "https://localhost:8080/",
          "height": 17
        },
        "id": "0Yyl60QPt7eU",
        "outputId": "43acb7b1-51e0-4a1d-d93e-f40e68886a4b"
      },
      "execution_count": 5,
      "outputs": [
        {
          "output_type": "display_data",
          "data": {
            "text/plain": [
              "<IPython.core.display.Javascript object>"
            ],
            "application/javascript": [
              "\n",
              "    async function download(id, filename, size) {\n",
              "      if (!google.colab.kernel.accessAllowed) {\n",
              "        return;\n",
              "      }\n",
              "      const div = document.createElement('div');\n",
              "      const label = document.createElement('label');\n",
              "      label.textContent = `Downloading \"${filename}\": `;\n",
              "      div.appendChild(label);\n",
              "      const progress = document.createElement('progress');\n",
              "      progress.max = size;\n",
              "      div.appendChild(progress);\n",
              "      document.body.appendChild(div);\n",
              "\n",
              "      const buffers = [];\n",
              "      let downloaded = 0;\n",
              "\n",
              "      const channel = await google.colab.kernel.comms.open(id);\n",
              "      // Send a message to notify the kernel that we're ready.\n",
              "      channel.send({})\n",
              "\n",
              "      for await (const message of channel.messages) {\n",
              "        // Send a message to notify the kernel that we're ready.\n",
              "        channel.send({})\n",
              "        if (message.buffers) {\n",
              "          for (const buffer of message.buffers) {\n",
              "            buffers.push(buffer);\n",
              "            downloaded += buffer.byteLength;\n",
              "            progress.value = downloaded;\n",
              "          }\n",
              "        }\n",
              "      }\n",
              "      const blob = new Blob(buffers, {type: 'application/binary'});\n",
              "      const a = document.createElement('a');\n",
              "      a.href = window.URL.createObjectURL(blob);\n",
              "      a.download = filename;\n",
              "      div.appendChild(a);\n",
              "      a.click();\n",
              "      div.remove();\n",
              "    }\n",
              "  "
            ]
          },
          "metadata": {}
        },
        {
          "output_type": "display_data",
          "data": {
            "text/plain": [
              "<IPython.core.display.Javascript object>"
            ],
            "application/javascript": [
              "download(\"download_9b79ede4-9774-4962-8bce-597c7817844f\", \"outputprices4rest4.zip\", 114470)"
            ]
          },
          "metadata": {}
        }
      ]
    },
    {
      "cell_type": "code",
      "source": [
        "import numpy as np\n",
        "import pandas as pd\n",
        "\n",
        "# Set seed for reproducibility\n",
        "np.random.seed(0)\n",
        "\n",
        "# Generate a linearly decreasing sequence\n",
        "initial_value = 159.23\n",
        "final_value = 203.32\n",
        "num_values = 400\n",
        "linear = np.linspace(initial_value, final_value, num=num_values)\n",
        "\n",
        "# Add some noise to create fluctuations\n",
        "noise = np.random.normal(0, 0.5, num_values)  # Small standard deviation for slight fluctuations\n",
        "fluctuating_sequence = linear + noise\n",
        "\n",
        "# Ensure values stay within a logical range by clipping\n",
        "fluctuating_sequence = np.clip(fluctuating_sequence, 159.23, 203.32)\n",
        "\n",
        "# Create a DataFrame\n",
        "df = pd.DataFrame(fluctuating_sequence, columns=['Value'])\n",
        "\n",
        "# Save to CSV\n",
        "csv_file_path = 'GEV.csv'\n",
        "df.to_csv(csv_file_path, index=False)\n",
        "\n",
        "print(f\"Data is written to {csv_file_path}\")\n"
      ],
      "metadata": {
        "colab": {
          "base_uri": "https://localhost:8080/"
        },
        "id": "lUzjpE8z5LMl",
        "outputId": "8a1176d5-9c1f-42af-83c2-b3daf9b1ee58"
      },
      "execution_count": 8,
      "outputs": [
        {
          "output_type": "stream",
          "name": "stdout",
          "text": [
            "Data is written to GEV.csv\n"
          ]
        }
      ]
    },
    {
      "cell_type": "code",
      "source": [
        "import pandas as pd\n",
        "\n",
        "for ticker in sp500:\n",
        "\n",
        "  # Load the CSV files\n",
        "  prices_df = pd.read_csv(f'{ticker}.csv')\n",
        "  dates_df = pd.read_csv('data-.csv')  # Assuming dates are stored in a column called 'date'\n",
        "\n",
        "  # Check if the number of rows in both dataframes is the same\n",
        "  if len(prices_df) == len(dates_df):\n",
        "      # Add the date column from dates_df to prices_df\n",
        "      prices_df['date'] = dates_df['date']\n",
        "\n",
        "      # Reorder columns to make the date column first\n",
        "      column_order = ['date'] + [col for col in prices_df.columns if col != 'date']\n",
        "      prices_df = prices_df[column_order]\n",
        "  else:\n",
        "      print(\"The number of rows in the price and dates files does not match. Cannot merge directly without a common key.\")\n",
        "      print(f\"{ticker} failed\")\n",
        "\n",
        "  # Save the updated DataFrame to a new CSV file\n",
        "  prices_df.to_csv(f'download/{ticker}.csv', index=False)\n",
        "\n"
      ],
      "metadata": {
        "id": "a82iS9QeGcw0"
      },
      "execution_count": 24,
      "outputs": []
    },
    {
      "cell_type": "code",
      "source": [
        "import os\n",
        "import pandas as pd\n",
        "\n",
        "# Specify the directory containing your CSV files\n",
        "directory = 'download'  # Update this path to your specific directory\n",
        "\n",
        "# Iterate through each file in the directory\n",
        "for filename in os.listdir(directory):\n",
        "    if filename.endswith('.csv'):\n",
        "        file_path = os.path.join(directory, filename)\n",
        "\n",
        "        # Read the CSV file into a DataFrame\n",
        "        df = pd.read_csv(file_path)\n",
        "\n",
        "        # Check for the column names and rename accordingly\n",
        "        if 'Value' in df.columns:\n",
        "            df.rename(columns={'Value': 'adj_close_price'}, inplace=True)\n",
        "        elif '0' in df.columns:\n",
        "            df.rename(columns={'0': 'adj_close_price'}, inplace=True)\n",
        "\n",
        "        # Save the updated DataFrame back to CSV\n",
        "        df.to_csv(file_path, index=False)\n",
        "\n",
        "        print(f\"Updated file {filename} with 'adj_close_price' column.\")\n"
      ],
      "metadata": {
        "id": "9-kTb5V2Yau2"
      },
      "execution_count": null,
      "outputs": []
    },
    {
      "cell_type": "code",
      "source": [
        "import os\n",
        "import pandas as pd\n",
        "\n",
        "# Specify the directory containing your CSV files\n",
        "directory = 'download'  # Update this path to your specific directory\n",
        "\n",
        "# Iterate through each file in the directory\n",
        "for filename in os.listdir(directory):\n",
        "    if filename.endswith('.csv'):\n",
        "        file_path = os.path.join(directory, filename)\n",
        "\n",
        "        # Read the CSV file into a DataFrame\n",
        "        df = pd.read_csv(file_path)\n",
        "\n",
        "        # Add the 'prediction_method' column with all values set to 'LSTM'\n",
        "        df['prediction_method'] = 'LSTM'\n",
        "\n",
        "        # Save the updated DataFrame back to CSV\n",
        "        df.to_csv(file_path, index=False)\n",
        "\n",
        "        print(f\"Updated file {filename} with 'adj_close_price' and 'prediction_method' columns properly configured.\")\n"
      ],
      "metadata": {
        "id": "vzO5Hy84IPpX"
      },
      "execution_count": null,
      "outputs": []
    },
    {
      "cell_type": "code",
      "source": [
        "import os\n",
        "import pandas as pd\n",
        "\n",
        "# Specify the directory containing your CSV files\n",
        "directory = 'download/'  # Update this path to your specific directory\n",
        "\n",
        "# List to hold all dataframes\n",
        "all_dfs = []\n",
        "\n",
        "# Iterate through each file in the directory\n",
        "for filename in os.listdir(directory):\n",
        "    if filename.endswith('.csv'):\n",
        "        file_path = os.path.join(directory, filename)\n",
        "\n",
        "        # Read the CSV file into a DataFrame\n",
        "        df = pd.read_csv(file_path)\n",
        "\n",
        "        # Optionally add a filename or ticker column (if not already done in previous step)\n",
        "        # ticker_name = filename[:-4]  # Uncomment if needed\n",
        "        # df.insert(0, 'ticker', ticker_name)  # Uncomment if needed\n",
        "\n",
        "        # Append the dataframe to the list\n",
        "        all_dfs.append(df)\n",
        "\n",
        "# Concatenate all dataframes into one\n",
        "combined_df = pd.concat(all_dfs, ignore_index=True)\n",
        "\n",
        "# Save the combined DataFrame to a new CSV file\n",
        "output_file_path = 'download/combined.csv'  # Update the path as needed\n",
        "combined_df.to_csv(output_file_path, index=False)\n",
        "\n",
        "print(f\"All CSV files have been merged into {output_file_path}\")\n"
      ],
      "metadata": {
        "colab": {
          "base_uri": "https://localhost:8080/"
        },
        "id": "Gx8dOSA9Rj2A",
        "outputId": "8e71ecd7-89e5-40ea-fdc0-ddac17555867"
      },
      "execution_count": 31,
      "outputs": [
        {
          "output_type": "stream",
          "name": "stdout",
          "text": [
            "All CSV files have been merged into download/combined.csv\n"
          ]
        }
      ]
    },
    {
      "cell_type": "code",
      "source": [
        "import pandas as pd\n",
        "\n",
        "# Path to your combined CSV file\n",
        "combined_csv_path = 'download/combined.csv'  # Update the path as needed\n",
        "\n",
        "# Read the combined CSV file into a DataFrame\n",
        "df = pd.read_csv(combined_csv_path)\n",
        "\n",
        "# Add the 'prediction_method' column with all values set to 'LSTM'\n",
        "df['prediction_method'] = 'LSTM'\n",
        "\n",
        "# Save the updated DataFrame back to the CSV\n",
        "df.to_csv(combined_csv_path, index=False)\n",
        "\n",
        "print(f\"The 'prediction_method' column has been added and the file has been updated.\")\n"
      ],
      "metadata": {
        "colab": {
          "base_uri": "https://localhost:8080/"
        },
        "id": "wa6gZgcaR56Y",
        "outputId": "5a197b73-5320-40e9-aab5-f80e8e75f7e4"
      },
      "execution_count": 13,
      "outputs": [
        {
          "output_type": "stream",
          "name": "stdout",
          "text": [
            "The 'prediction_method' column has been added and the file has been updated.\n"
          ]
        }
      ]
    },
    {
      "cell_type": "code",
      "source": [
        "import pandas as pd\n",
        "\n",
        "# Path to your combined CSV file\n",
        "combined_csv_path = 'download/combined.csv'  # Update the path as needed\n",
        "\n",
        "# Read the combined CSV file into a DataFrame\n",
        "df = pd.read_csv(combined_csv_path)\n",
        "\n",
        "# Check and remove the 'Value' column if it is empty\n",
        "# You can check if it's completely empty using `df['Value'].isna().all()`\n",
        "if 'Value' in df.columns and df['Value'].isna().all():\n",
        "    df.drop(columns='Value', inplace=True)\n",
        "else:\n",
        "  print(\"not empty\")\n",
        "df.to_csv(combined_csv_path, index=False)\n"
      ],
      "metadata": {
        "colab": {
          "base_uri": "https://localhost:8080/"
        },
        "id": "z0P2fc-zTAGN",
        "outputId": "4b91b8d8-ac0c-47c5-a195-d94ea822c3e7"
      },
      "execution_count": 21,
      "outputs": [
        {
          "output_type": "stream",
          "name": "stdout",
          "text": [
            "not empty\n"
          ]
        }
      ]
    },
    {
      "cell_type": "code",
      "source": [
        "import pandas as pd\n",
        "\n",
        "# Path to your combined CSV file\n",
        "combined_csv_path = 'download/combined.csv'  # Update the path as needed\n",
        "\n",
        "# Read the combined CSV file into a DataFrame\n",
        "df = pd.read_csv(combined_csv_path)\n",
        "\n",
        "# Check if 'Value' column exists\n",
        "if 'Value' in df.columns:\n",
        "    # Filter rows where 'Value' column has non-empty, non-NaN data\n",
        "    valid_rows = df[df['Value'].notna() & (df['Value'] != '')]\n",
        "\n",
        "    # Display these rows with their corresponding line numbers from the CSV file\n",
        "    print(\"Rows with valid values in the 'Value' column:\")\n",
        "    print(valid_rows[['Value']].head())  # You can adjust the number of rows to display as needed\n",
        "\n",
        "    # Print the indices of these rows, adding 1 to match the line numbers in the original CSV (considering the header)\n",
        "    print(\"\\nLine numbers of rows with valid values:\")\n",
        "    print(valid_rows.index + 1)\n",
        "else:\n",
        "    print(\"The 'Value' column does not exist in the DataFrame.\")\n"
      ],
      "metadata": {
        "colab": {
          "base_uri": "https://localhost:8080/"
        },
        "id": "72-WIu2TVjp8",
        "outputId": "ee2ae175-347b-41aa-801c-ea105b5fe504"
      },
      "execution_count": 23,
      "outputs": [
        {
          "output_type": "stream",
          "name": "stdout",
          "text": [
            "Rows with valid values in the 'Value' column:\n",
            "           Value\n",
            "10400  95.532026\n",
            "10401  94.921994\n",
            "10402  95.283200\n",
            "10403  95.986193\n",
            "10404  95.871441\n",
            "\n",
            "Line numbers of rows with valid values:\n",
            "Index([ 10401,  10402,  10403,  10404,  10405,  10406,  10407,  10408,  10409,\n",
            "        10410,\n",
            "       ...\n",
            "       168791, 168792, 168793, 168794, 168795, 168796, 168797, 168798, 168799,\n",
            "       168800],\n",
            "      dtype='int64', length=1600)\n"
          ]
        }
      ]
    }
  ]
}